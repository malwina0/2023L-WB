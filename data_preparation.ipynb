{
 "cells": [
  {
   "cell_type": "code",
   "execution_count": 1,
   "id": "6f197d78",
   "metadata": {},
   "outputs": [],
   "source": [
    "import pandas as pd\n",
    "import matplotlib as plt\n",
    "import numpy as np\n",
    "from sklearn.metrics import accuracy_score, precision_score\n",
    "from sklearn.ensemble import AdaBoostClassifier\n",
    "from xgboost import XGBClassifier\n",
    "import gzip\n",
    "from Bio import SeqIO\n",
    "import itertools\n",
    "from Bio.Seq import Seq"
   ]
  },
  {
   "attachments": {},
   "cell_type": "markdown",
   "id": "f98c9ac9",
   "metadata": {},
   "source": [
    "### Calculation the average length of the enhancer"
   ]
  },
  {
   "cell_type": "code",
   "execution_count": 27,
   "id": "858007a0",
   "metadata": {},
   "outputs": [],
   "source": [
    "df_positive = pd.read_csv('GM12878.bed', header=None, sep=\"\\t\")"
   ]
  },
  {
   "cell_type": "code",
   "execution_count": 28,
   "id": "63c9f1e8",
   "metadata": {},
   "outputs": [],
   "source": [
    "def preprocess_sets(df, label):\n",
    "    df.rename(columns ={df.columns[0] : \"ID\", df.columns[1]: 'first', df.columns[2] :'last'}, inplace=True)\n",
    "    df = df.loc[~df.ID.isin(['chrM', 'chrX', 'chrY'])].copy()\n",
    "    df['label'] = label\n",
    "    return df"
   ]
  },
  {
   "cell_type": "code",
   "execution_count": 29,
   "id": "43042795",
   "metadata": {},
   "outputs": [
    {
     "data": {
      "text/html": [
       "<div>\n",
       "<style scoped>\n",
       "    .dataframe tbody tr th:only-of-type {\n",
       "        vertical-align: middle;\n",
       "    }\n",
       "\n",
       "    .dataframe tbody tr th {\n",
       "        vertical-align: top;\n",
       "    }\n",
       "\n",
       "    .dataframe thead th {\n",
       "        text-align: right;\n",
       "    }\n",
       "</style>\n",
       "<table border=\"1\" class=\"dataframe\">\n",
       "  <thead>\n",
       "    <tr style=\"text-align: right;\">\n",
       "      <th></th>\n",
       "      <th>ID</th>\n",
       "      <th>first</th>\n",
       "      <th>last</th>\n",
       "      <th>label</th>\n",
       "      <th>length</th>\n",
       "    </tr>\n",
       "  </thead>\n",
       "  <tbody>\n",
       "    <tr>\n",
       "      <th>0</th>\n",
       "      <td>chr1</td>\n",
       "      <td>773300</td>\n",
       "      <td>774100</td>\n",
       "      <td>True</td>\n",
       "      <td>801</td>\n",
       "    </tr>\n",
       "    <tr>\n",
       "      <th>1</th>\n",
       "      <td>chr1</td>\n",
       "      <td>778980</td>\n",
       "      <td>779450</td>\n",
       "      <td>True</td>\n",
       "      <td>471</td>\n",
       "    </tr>\n",
       "    <tr>\n",
       "      <th>2</th>\n",
       "      <td>chr1</td>\n",
       "      <td>800100</td>\n",
       "      <td>802000</td>\n",
       "      <td>True</td>\n",
       "      <td>1901</td>\n",
       "    </tr>\n",
       "    <tr>\n",
       "      <th>3</th>\n",
       "      <td>chr1</td>\n",
       "      <td>825670</td>\n",
       "      <td>826410</td>\n",
       "      <td>True</td>\n",
       "      <td>741</td>\n",
       "    </tr>\n",
       "    <tr>\n",
       "      <th>4</th>\n",
       "      <td>chr1</td>\n",
       "      <td>839470</td>\n",
       "      <td>842590</td>\n",
       "      <td>True</td>\n",
       "      <td>3121</td>\n",
       "    </tr>\n",
       "    <tr>\n",
       "      <th>...</th>\n",
       "      <td>...</td>\n",
       "      <td>...</td>\n",
       "      <td>...</td>\n",
       "      <td>...</td>\n",
       "      <td>...</td>\n",
       "    </tr>\n",
       "    <tr>\n",
       "      <th>48555</th>\n",
       "      <td>chr9</td>\n",
       "      <td>140651150</td>\n",
       "      <td>140652330</td>\n",
       "      <td>True</td>\n",
       "      <td>1181</td>\n",
       "    </tr>\n",
       "    <tr>\n",
       "      <th>48556</th>\n",
       "      <td>chr9</td>\n",
       "      <td>140702130</td>\n",
       "      <td>140703100</td>\n",
       "      <td>True</td>\n",
       "      <td>971</td>\n",
       "    </tr>\n",
       "    <tr>\n",
       "      <th>48557</th>\n",
       "      <td>chr9</td>\n",
       "      <td>140703310</td>\n",
       "      <td>140704120</td>\n",
       "      <td>True</td>\n",
       "      <td>811</td>\n",
       "    </tr>\n",
       "    <tr>\n",
       "      <th>48558</th>\n",
       "      <td>chr9</td>\n",
       "      <td>140710520</td>\n",
       "      <td>140711890</td>\n",
       "      <td>True</td>\n",
       "      <td>1371</td>\n",
       "    </tr>\n",
       "    <tr>\n",
       "      <th>48559</th>\n",
       "      <td>chr9</td>\n",
       "      <td>140719390</td>\n",
       "      <td>140720520</td>\n",
       "      <td>True</td>\n",
       "      <td>1131</td>\n",
       "    </tr>\n",
       "  </tbody>\n",
       "</table>\n",
       "<p>48560 rows × 5 columns</p>\n",
       "</div>"
      ],
      "text/plain": [
       "         ID      first       last  label  length\n",
       "0      chr1     773300     774100   True     801\n",
       "1      chr1     778980     779450   True     471\n",
       "2      chr1     800100     802000   True    1901\n",
       "3      chr1     825670     826410   True     741\n",
       "4      chr1     839470     842590   True    3121\n",
       "...     ...        ...        ...    ...     ...\n",
       "48555  chr9  140651150  140652330   True    1181\n",
       "48556  chr9  140702130  140703100   True     971\n",
       "48557  chr9  140703310  140704120   True     811\n",
       "48558  chr9  140710520  140711890   True    1371\n",
       "48559  chr9  140719390  140720520   True    1131\n",
       "\n",
       "[48560 rows x 5 columns]"
      ]
     },
     "execution_count": 29,
     "metadata": {},
     "output_type": "execute_result"
    }
   ],
   "source": [
    "df_positive = preprocess_sets(df_positive, True)\n",
    "df_positive.drop(df_positive.columns[3], axis = 1, inplace=True)\n",
    "df_positive['length'] = df_positive['last']-df_positive['first']+1\n",
    "df_positive"
   ]
  },
  {
   "cell_type": "code",
   "execution_count": 30,
   "id": "9d67a2c1",
   "metadata": {
    "scrolled": false
   },
   "outputs": [
    {
     "data": {
      "text/plain": [
       "1745.0801070840198"
      ]
     },
     "execution_count": 30,
     "metadata": {},
     "output_type": "execute_result"
    }
   ],
   "source": [
    "df_positive.loc[:, 'length'].mean()"
   ]
  },
  {
   "attachments": {},
   "cell_type": "markdown",
   "id": "1a30043b",
   "metadata": {},
   "source": [
    "#### The average length rounded to 100 is 1700"
   ]
  },
  {
   "cell_type": "code",
   "execution_count": 31,
   "id": "01e9c3d0",
   "metadata": {},
   "outputs": [],
   "source": [
    "mean_val  = 1700"
   ]
  },
  {
   "attachments": {},
   "cell_type": "markdown",
   "id": "45077464",
   "metadata": {},
   "source": [
    "### Predictions for each window"
   ]
  },
  {
   "cell_type": "code",
   "execution_count": 3,
   "id": "ebf5a88d",
   "metadata": {},
   "outputs": [],
   "source": [
    "# Fasta file\n",
    "df_fasta = pd.DataFrame(columns=['ID', 'sequence'])\n",
    "with gzip.open(\"GRCh37.primary_assembly.genome.fa.gz\", \"rt\") as handle:\n",
    "    for record in SeqIO.parse(handle, 'fasta'):\n",
    "        identifier = record.id\n",
    "        sequence = record.seq\n",
    "        df_fasta = pd.concat([df_fasta, pd.DataFrame.from_records([{'ID':identifier, 'sequence':sequence}])], ignore_index=True)\n",
    "df_fasta.drop(df_fasta[(df_fasta.ID.str.startswith('GL')) | (df_fasta.ID.isin(['chrM', 'chrX', 'chrY'])) ].index, inplace=True)\n",
    "df_fasta.set_index('ID', inplace=True)"
   ]
  },
  {
   "cell_type": "code",
   "execution_count": 5,
   "id": "136a29c6",
   "metadata": {},
   "outputs": [],
   "source": [
    "df_train = pd.read_csv('df_train_4mers.csv', index_col=0)\n",
    "df_test = pd.read_csv('df_test_4mers.csv', index_col=0)"
   ]
  },
  {
   "cell_type": "code",
   "execution_count": 9,
   "id": "b575b1c8",
   "metadata": {},
   "outputs": [],
   "source": [
    "X_test = df_test.loc[:, df_test.columns != 'label'].copy()\n",
    "y_test = df_test['label'].to_numpy()\n",
    "\n",
    "X_train = df_train.loc[:, df_train.columns != 'label'].copy()\n",
    "y_train = df_train['label'].to_numpy()"
   ]
  },
  {
   "cell_type": "code",
   "execution_count": 108,
   "id": "80a7cf40",
   "metadata": {},
   "outputs": [
    {
     "data": {
      "text/plain": [
       "AdaBoostClassifier(base_estimator=DecisionTreeClassifier(max_depth=3,\n",
       "                                                         min_samples_split=4),\n",
       "                   learning_rate=0.2, n_estimators=200)"
      ]
     },
     "execution_count": 108,
     "metadata": {},
     "output_type": "execute_result"
    }
   ],
   "source": [
    "model_abc = AdaBoostClassifier(DecisionTreeClassifier(max_depth=3, min_samples_split=4),n_estimators=200,learning_rate=0.2)\n",
    "model_abc.fit(X_train, y_train)"
   ]
  },
  {
   "cell_type": "code",
   "execution_count": 10,
   "id": "76ce8cb7",
   "metadata": {
    "scrolled": false
   },
   "outputs": [
    {
     "data": {
      "text/plain": [
       "XGBClassifier(base_score=None, booster=None, callbacks=None,\n",
       "              colsample_bylevel=None, colsample_bynode=None,\n",
       "              colsample_bytree=None, early_stopping_rounds=None,\n",
       "              enable_categorical=False, eval_metric=None, feature_types=None,\n",
       "              gamma=None, gpu_id=None, grow_policy=None, importance_type=None,\n",
       "              interaction_constraints=None, learning_rate=None, max_bin=None,\n",
       "              max_cat_threshold=None, max_cat_to_onehot=None,\n",
       "              max_delta_step=None, max_depth=None, max_leaves=None,\n",
       "              min_child_weight=None, missing=nan, monotone_constraints=None,\n",
       "              n_estimators=100, n_jobs=None, num_parallel_tree=None,\n",
       "              predictor=None, random_state=None, ...)"
      ]
     },
     "execution_count": 10,
     "metadata": {},
     "output_type": "execute_result"
    }
   ],
   "source": [
    "model = XGBClassifier()\n",
    "model.fit(X_train, y_train)"
   ]
  },
  {
   "cell_type": "code",
   "execution_count": 105,
   "id": "f0914d99",
   "metadata": {},
   "outputs": [
    {
     "name": "stdout",
     "output_type": "stream",
     "text": [
      "Accuracy score: 0.7130859673232555\n",
      "Precision score: 0.665274246276789\n"
     ]
    }
   ],
   "source": [
    "print(f\"Accuracy score: {accuracy_score(y_test, model.predict(X_test))}\")\n",
    "print(f\"Precision score: {precision_score(y_test, model.predict(X_test), average='binary')}\")"
   ]
  },
  {
   "attachments": {},
   "cell_type": "markdown",
   "id": "212a7285",
   "metadata": {},
   "source": [
    "### Preparing function for data transformation"
   ]
  },
  {
   "cell_type": "code",
   "execution_count": 11,
   "id": "74cb521d",
   "metadata": {},
   "outputs": [],
   "source": [
    "def get_unique_kmers(k):\n",
    "    letters = [\"C\", \"A\", \"T\", \"G\"]\n",
    "    combinations_str = [''.join(i) for i in itertools.product(letters, repeat = k)]\n",
    "    combinations = [Seq(mer) for mer in combinations_str]\n",
    "    unique_kmers = []\n",
    "    [unique_kmers.append(x) for x in combinations if x not in unique_kmers and x.reverse_complement() not in unique_kmers]\n",
    "    unique_kmers = dict.fromkeys(unique_kmers, 0)\n",
    "    return unique_kmers"
   ]
  },
  {
   "cell_type": "code",
   "execution_count": 12,
   "id": "ca11140d",
   "metadata": {},
   "outputs": [],
   "source": [
    "unique_kmers = get_unique_kmers(4)"
   ]
  },
  {
   "cell_type": "code",
   "execution_count": 13,
   "id": "a56efb09",
   "metadata": {},
   "outputs": [],
   "source": [
    "def replace_with_mean(x):\n",
    "    k=0\n",
    "    m=0\n",
    "    for i in x:\n",
    "        if i >= 0 :\n",
    "            k+=i\n",
    "            m+=1\n",
    "    mean = k/m        \n",
    "    for i in range(len(x)):\n",
    "        if x[i] == -1:\n",
    "            x[i] = mean\n",
    "    return x"
   ]
  },
  {
   "cell_type": "code",
   "execution_count": 84,
   "id": "ecc40781",
   "metadata": {},
   "outputs": [],
   "source": [
    "def count_prediction(model, sequence, unique_kmers, k):\n",
    "    unique_kmers_str = [str(mer) for mer in unique_kmers]\n",
    "    prob = []\n",
    "    l = len(sequence)\n",
    "    p = l // 1700\n",
    "    for i in range(p+1):\n",
    "        frequency = []    \n",
    "        if i == p : \n",
    "            seq = sequence[p*1700 : l]\n",
    "        else:\n",
    "            seq = sequence[i*1700 : (i*1700 + 1700)]\n",
    "        if seq.count(\"N\")/len(seq) < 0.05:\n",
    "        \n",
    "            kmers_in_seq = len(seq) - k + 1\n",
    "\n",
    "            for kmer in unique_kmers:\n",
    "                kmer_rc = kmer.reverse_complement()\n",
    "                if str(kmer) == str(kmer_rc):\n",
    "                    count = seq.count_overlap(kmer)\n",
    "                else:\n",
    "                    count = seq.count_overlap(kmer) + seq.count_overlap(kmer_rc)\n",
    "                frequency.append(count / kmers_in_seq) \n",
    "            data = pd.DataFrame(frequency).T\n",
    "            data.columns = unique_kmers_str\n",
    "            prob.append(model.predict_proba(data)[0,1])\n",
    "        else :\n",
    "            prob.append(-1)\n",
    "    prob = replace_with_mean(prob)\n",
    "    prob = [round(elem*100, 1) for elem in prob ]\n",
    "    return prob         "
   ]
  },
  {
   "attachments": {},
   "cell_type": "markdown",
   "id": "df55a5d5",
   "metadata": {},
   "source": [
    "### Comparison of the XGBoost and AdaBoost models"
   ]
  },
  {
   "attachments": {},
   "cell_type": "markdown",
   "id": "8128bc3a",
   "metadata": {},
   "source": [
    "Although we chose the AdaBoost model in the previous stage, finally we decided to use the XGBoost model to visualize the prediction. We noted that the AdaBoost model classified the sequences as enhancer with at most 60% probability. With the XGBoost model, these results were more varied what can be seen in the plots below."
   ]
  },
  {
   "cell_type": "code",
   "execution_count": 106,
   "id": "cdb9a445",
   "metadata": {},
   "outputs": [
    {
     "name": "stdout",
     "output_type": "stream",
     "text": [
      "Accuracy score for XGBoost: 0.7130859673232555\n",
      "Precision score for XGBoost: 0.665274246276789\n"
     ]
    }
   ],
   "source": [
    "print(f\"Accuracy score for XGBoost: {accuracy_score(y_test, model.predict(X_test))}\")\n",
    "print(f\"Precision score for XGBoost: {precision_score(y_test, model.predict(X_test), average='binary')}\")"
   ]
  },
  {
   "cell_type": "code",
   "execution_count": 85,
   "id": "3e3c93d7",
   "metadata": {},
   "outputs": [],
   "source": [
    "bb = df_fasta.loc['chr1', 'sequence']\n",
    "pp = count_prediction(model, bb, unique_kmers, 4)"
   ]
  },
  {
   "cell_type": "code",
   "execution_count": 104,
   "id": "803fcc1e",
   "metadata": {
    "scrolled": false
   },
   "outputs": [
    {
     "data": {
      "text/plain": [
       "[<matplotlib.lines.Line2D at 0x1bb9f421a00>]"
      ]
     },
     "execution_count": 104,
     "metadata": {},
     "output_type": "execute_result"
    },
    {
     "data": {
      "image/png": "[encoded data removed]",
      "text/plain": [
       "<Figure size 640x480 with 1 Axes>"
      ]
     },
     "metadata": {},
     "output_type": "display_data"
    }
   ],
   "source": [
    "from matplotlib import pyplot as plt\n",
    "plt.plot(pp)"
   ]
  },
  {
   "cell_type": "code",
   "execution_count": 109,
   "id": "3d1efd95",
   "metadata": {},
   "outputs": [
    {
     "name": "stdout",
     "output_type": "stream",
     "text": [
      "Accuracy score for AdaBoost: 0.7184811930574643\n",
      "Precision score for AdaBoost: 0.6871356393315197\n"
     ]
    }
   ],
   "source": [
    "print(f\"Accuracy score for AdaBoost: {accuracy_score(y_test, model_abc.predict(X_test))}\")\n",
    "print(f\"Precision score for AdaBoost: {precision_score(y_test, model_abc.predict(X_test), average='binary')}\")"
   ]
  },
  {
   "cell_type": "code",
   "execution_count": 90,
   "id": "18bce0e5",
   "metadata": {
    "scrolled": false
   },
   "outputs": [
    {
     "data": {
      "text/plain": [
       "[<matplotlib.lines.Line2D at 0x228c05d94f0>]"
      ]
     },
     "execution_count": 90,
     "metadata": {},
     "output_type": "execute_result"
    },
    {
     "data": {
      "image/png": "[encoded data removed]",
      "text/plain": [
       "<Figure size 640x480 with 1 Axes>"
      ]
     },
     "metadata": {},
     "output_type": "display_data"
    }
   ],
   "source": [
    "warnings.filterwarnings('ignore')\n",
    "prob12 = count_prediction(model_abc, chr1, unique_kmers, 4)\n",
    "plt.plot(prob12)"
   ]
  },
  {
   "attachments": {},
   "cell_type": "markdown",
   "id": "46c26b75",
   "metadata": {},
   "source": [
    "### Preparing and saving the data\n",
    "Calculating the prediction for each window of 1700 nucleotides in each chromosom."
   ]
  },
  {
   "cell_type": "code",
   "execution_count": 104,
   "id": "53469d67",
   "metadata": {
    "scrolled": false
   },
   "outputs": [
    {
     "name": "stdout",
     "output_type": "stream",
     "text": [
      "plik: chr2 został zapisany\n",
      "plik: chr3 został zapisany\n",
      "plik: chr4 został zapisany\n",
      "plik: chr5 został zapisany\n",
      "plik: chr6 został zapisany\n",
      "plik: chr7 został zapisany\n",
      "plik: chr8 został zapisany\n",
      "plik: chr9 został zapisany\n",
      "plik: chr10 został zapisany\n",
      "plik: chr11 został zapisany\n",
      "plik: chr12 został zapisany\n",
      "plik: chr13 został zapisany\n",
      "plik: chr14 został zapisany\n",
      "plik: chr15 został zapisany\n",
      "plik: chr16 został zapisany\n",
      "plik: chr17 został zapisany\n",
      "plik: chr18 został zapisany\n",
      "plik: chr19 został zapisany\n",
      "plik: chr20 został zapisany\n",
      "plik: chr21 został zapisany\n",
      "plik: chr22 został zapisany\n"
     ]
    }
   ],
   "source": [
    "list = ['chr1','chr2', 'chr3', 'chr4', 'chr5', 'chr6','chr7', 'chr8', 'chr9', 'chr10', 'chr11', 'chr12','chr13', 'chr14', 'chr15', 'chr16', 'chr17', 'chr18', 'chr19', 'chr20', 'chr21', 'chr22']\n",
    "warnings.filterwarnings('ignore')\n",
    "for x in list:\n",
    "    chrr = df_fasta.loc[x, 'sequence']\n",
    "    prob = count_prediction(model, chrr, unique_kmers, 4)\n",
    "    np.save(x, prob)\n",
    "    print(f\"plik: {x} został zapisany\")"
   ]
  },
  {
   "attachments": {},
   "cell_type": "markdown",
   "id": "560d10d0",
   "metadata": {},
   "source": [
    "#### Data loading"
   ]
  },
  {
   "cell_type": "code",
   "execution_count": 122,
   "id": "fa544822",
   "metadata": {},
   "outputs": [],
   "source": [
    "tab_of_chromosoms = []\n",
    "for x in list:\n",
    "    exec(f\"{x} = np.load(x+'.npy').tolist()\")"
   ]
  }
 ],
 "metadata": {
  "kernelspec": {
   "display_name": "Python 3 (ipykernel)",
   "language": "python",
   "name": "python3"
  },
  "language_info": {
   "codemirror_mode": {
    "name": "ipython",
    "version": 3
   },
   "file_extension": ".py",
   "mimetype": "text/x-python",
   "name": "python",
   "nbconvert_exporter": "python",
   "pygments_lexer": "ipython3",
   "version": "3.10.11"
  }
 },
 "nbformat": 4,
 "nbformat_minor": 5
}
